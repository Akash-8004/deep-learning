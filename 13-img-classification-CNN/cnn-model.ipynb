{
 "cells": [
  {
   "cell_type": "markdown",
   "id": "10004714-fbc8-4da3-9698-883042006ca2",
   "metadata": {},
   "source": [
    "## In this notebook, we will classify small images cifar10 dataset from tensorflow keras datasets. There are total 10 classes as shown below. We will use CNN for classification"
   ]
  },
  {
   "cell_type": "markdown",
   "id": "5b101c90-a1fe-4ca8-9866-a2867f6fc59f",
   "metadata": {},
   "source": [
    "### Load data"
   ]
  },
  {
   "cell_type": "code",
   "execution_count": 1,
   "id": "b0a42d40-e2b6-4a7b-8dc5-33c8e9012a16",
   "metadata": {},
   "outputs": [],
   "source": [
    "import pandas as pd\n",
    "import numpy as np\n",
    "import tensorflow as tf\n",
    "from tensorflow import keras\n",
    "import matplotlib.pyplot as plt"
   ]
  },
  {
   "cell_type": "code",
   "execution_count": 2,
   "id": "fd3e6907-d553-43cc-a11b-a9e9ccf6c2cd",
   "metadata": {},
   "outputs": [],
   "source": [
    "dataset = keras.datasets.cifar10.load_data()"
   ]
  },
  {
   "cell_type": "code",
   "execution_count": 3,
   "id": "d6780159-2276-4199-a02d-e2baaeac1bb7",
   "metadata": {},
   "outputs": [],
   "source": [
    "(x_train, y_train), (x_test, y_test) = dataset"
   ]
  },
  {
   "cell_type": "code",
   "execution_count": 4,
   "id": "873a085b-1a88-4b47-8567-7c8c0b1c72b7",
   "metadata": {},
   "outputs": [
    {
     "data": {
      "text/plain": [
       "(50000, 32, 32, 3)"
      ]
     },
     "execution_count": 4,
     "metadata": {},
     "output_type": "execute_result"
    }
   ],
   "source": [
    "x_train.shape"
   ]
  },
  {
   "cell_type": "code",
   "execution_count": 5,
   "id": "e9eb0288-09eb-4e76-b4e4-98b13658e2ac",
   "metadata": {},
   "outputs": [
    {
     "data": {
      "text/plain": [
       "array([[6],\n",
       "       [9],\n",
       "       [9],\n",
       "       ...,\n",
       "       [9],\n",
       "       [1],\n",
       "       [1]], dtype=uint8)"
      ]
     },
     "execution_count": 5,
     "metadata": {},
     "output_type": "execute_result"
    }
   ],
   "source": [
    "y_train"
   ]
  },
  {
   "cell_type": "code",
   "execution_count": 6,
   "id": "0d94d045-1494-4a4e-8d9d-8aadf6e36cf7",
   "metadata": {},
   "outputs": [],
   "source": [
    "y_train = y_train.ravel()\n",
    "y_test = y_test.ravel()\n"
   ]
  },
  {
   "cell_type": "code",
   "execution_count": 126,
   "id": "c26a033a-14d4-44b5-977a-a39e85249e3a",
   "metadata": {},
   "outputs": [],
   "source": [
    "def plot(X, Y, idx):\n",
    "    plt.figure(figsize=(8,1))\n",
    "    plt.axis('off')\n",
    "    plt.imshow(X[idx])\n",
    "    plt.title(classes[Y[idx]])"
   ]
  },
  {
   "cell_type": "code",
   "execution_count": 8,
   "id": "03559900-b73d-4ab9-b552-f30e2ab2e80f",
   "metadata": {},
   "outputs": [],
   "source": [
    "classes = [\n",
    "    \"airplane\",\n",
    "    \"automobile\",\n",
    "    \"bird\",\n",
    "    \"cat\",\n",
    "    \"deer\",\n",
    "    \"dog\",\n",
    "    \"frog\",\n",
    "    \"horse\",\n",
    "    \"ship\",\n",
    "    \"truck\"\n",
    "]\n"
   ]
  },
  {
   "cell_type": "code",
   "execution_count": 9,
   "id": "68faf1f7-7456-4553-a64f-e4122adb6dbe",
   "metadata": {},
   "outputs": [
    {
     "data": {
      "image/png": "[encoded data removed]",
      "text/plain": [
       "<Figure size 800x100 with 1 Axes>"
      ]
     },
     "metadata": {},
     "output_type": "display_data"
    }
   ],
   "source": [
    "plot(x_train, y_train, 27)"
   ]
  },
  {
   "cell_type": "code",
   "execution_count": 10,
   "id": "ac2ef61b-2abc-446a-a07b-1599359e4346",
   "metadata": {},
   "outputs": [
    {
     "data": {
      "text/plain": [
       "'bird'"
      ]
     },
     "execution_count": 10,
     "metadata": {},
     "output_type": "execute_result"
    }
   ],
   "source": [
    "classes[y_train[6]]"
   ]
  },
  {
   "cell_type": "code",
   "execution_count": 11,
   "id": "5e114364-6b2f-4ca7-931b-c3341e25cfbd",
   "metadata": {},
   "outputs": [],
   "source": [
    "#normalise\n",
    "x_train = x_train/255\n",
    "x_test = x_test/255"
   ]
  },
  {
   "cell_type": "code",
   "execution_count": 32,
   "id": "9c418339-6384-4e40-a320-efa45b801cf9",
   "metadata": {},
   "outputs": [
    {
     "name": "stdout",
     "output_type": "stream",
     "text": [
      "Epoch 1/5\n",
      "\u001b[1m1563/1563\u001b[0m \u001b[32m━━━━━━━━━━━━━━━━━━━━\u001b[0m\u001b[37m\u001b[0m \u001b[1m101s\u001b[0m 64ms/step - accuracy: 0.2977 - loss: 1.9442\n",
      "Epoch 2/5\n",
      "\u001b[1m1563/1563\u001b[0m \u001b[32m━━━━━━━━━━━━━━━━━━━━\u001b[0m\u001b[37m\u001b[0m \u001b[1m106s\u001b[0m 68ms/step - accuracy: 0.3669 - loss: 1.7751\n",
      "Epoch 3/5\n",
      "\u001b[1m1563/1563\u001b[0m \u001b[32m━━━━━━━━━━━━━━━━━━━━\u001b[0m\u001b[37m\u001b[0m \u001b[1m70s\u001b[0m 45ms/step - accuracy: 0.3891 - loss: 1.7083\n",
      "Epoch 4/5\n",
      "\u001b[1m1563/1563\u001b[0m \u001b[32m━━━━━━━━━━━━━━━━━━━━\u001b[0m\u001b[37m\u001b[0m \u001b[1m101s\u001b[0m 64ms/step - accuracy: 0.4106 - loss: 1.6593\n",
      "Epoch 5/5\n",
      "\u001b[1m1563/1563\u001b[0m \u001b[32m━━━━━━━━━━━━━━━━━━━━\u001b[0m\u001b[37m\u001b[0m \u001b[1m74s\u001b[0m 47ms/step - accuracy: 0.4238 - loss: 1.6277\n"
     ]
    },
    {
     "data": {
      "text/plain": [
       "<keras.src.callbacks.history.History at 0x1e689b83080>"
      ]
     },
     "execution_count": 32,
     "metadata": {},
     "output_type": "execute_result"
    }
   ],
   "source": [
    "#ANN model\n",
    "model = keras.Sequential([\n",
    "    keras.layers.Flatten(input_shape=(32,32,3)),\n",
    "    keras.layers.Dense(3000, activation='relu'),\n",
    "    keras.layers.Dropout(0.5),\n",
    "    keras.layers.Dense(1000, activation='relu'),\n",
    "                         keras.layers.Dropout(0.3),\n",
    "    keras.layers.Dense(10, activation='softmax')\n",
    "                         ])\n",
    "model.compile(optimizer='SGD',\n",
    "              loss='sparse_categorical_crossentropy',\n",
    "              metrics=['accuracy']\n",
    "             )\n",
    "model.fit(x_train, y_train, epochs=5)"
   ]
  },
  {
   "cell_type": "code",
   "execution_count": 35,
   "id": "9d93cd0d-6d5a-4f89-afa1-c9dedc86d874",
   "metadata": {},
   "outputs": [
    {
     "name": "stdout",
     "output_type": "stream",
     "text": [
      "\u001b[1m313/313\u001b[0m \u001b[32m━━━━━━━━━━━━━━━━━━━━\u001b[0m\u001b[37m\u001b[0m \u001b[1m4s\u001b[0m 9ms/step - accuracy: 0.4205 - loss: 1.6264\n"
     ]
    },
    {
     "data": {
      "text/plain": [
       "[1.6264467239379883, 0.4205000102519989]"
      ]
     },
     "execution_count": 35,
     "metadata": {},
     "output_type": "execute_result"
    }
   ],
   "source": [
    "model.evaluate(x_test, y_test)"
   ]
  },
  {
   "cell_type": "code",
   "execution_count": 72,
   "id": "e9f5d4d9-be74-47fa-8b90-65d93b673d63",
   "metadata": {},
   "outputs": [
    {
     "name": "stdout",
     "output_type": "stream",
     "text": [
      "\u001b[1m313/313\u001b[0m \u001b[32m━━━━━━━━━━━━━━━━━━━━\u001b[0m\u001b[37m\u001b[0m \u001b[1m3s\u001b[0m 8ms/step\n"
     ]
    }
   ],
   "source": [
    "y_pred_ann = model.predict(x_test)"
   ]
  },
  {
   "cell_type": "code",
   "execution_count": 96,
   "id": "cde34291-5ebf-4079-8554-e2048e219bb6",
   "metadata": {},
   "outputs": [
    {
     "data": {
      "text/plain": [
       "array([[2.91781779e-02, 1.26837939e-01, 6.51935339e-02, 2.78542727e-01,\n",
       "        2.37642024e-02, 1.52444854e-01, 1.94162026e-01, 1.10711828e-02,\n",
       "        7.83984363e-02, 4.04070094e-02],\n",
       "       [2.75440030e-02, 2.40562946e-01, 7.57790054e-04, 1.32392265e-03,\n",
       "        7.06175226e-04, 7.06872321e-04, 3.83644248e-04, 1.41897937e-03,\n",
       "        1.42530993e-01, 5.84064722e-01],\n",
       "       [9.26262662e-02, 2.27356419e-01, 2.43018917e-03, 2.80352123e-03,\n",
       "        2.16465443e-03, 1.89595891e-03, 2.01761723e-04, 4.10402380e-03,\n",
       "        3.41637045e-01, 3.24780196e-01],\n",
       "       [1.84350476e-01, 1.68501839e-01, 1.89386085e-02, 1.38448868e-02,\n",
       "        1.95802394e-02, 1.20729227e-02, 4.46526520e-03, 4.00845148e-02,\n",
       "        3.80491793e-01, 1.57669500e-01],\n",
       "       [1.36617217e-02, 2.01864354e-02, 1.15203544e-01, 8.31729844e-02,\n",
       "        3.29976052e-01, 9.43736583e-02, 2.25684404e-01, 8.29859227e-02,\n",
       "        1.75723061e-02, 1.71829499e-02]], dtype=float32)"
      ]
     },
     "execution_count": 96,
     "metadata": {},
     "output_type": "execute_result"
    }
   ],
   "source": [
    "y_pred_ann[:5]"
   ]
  },
  {
   "cell_type": "code",
   "execution_count": 90,
   "id": "0d4c9bef-3a4f-4ccf-a7fd-51e286609746",
   "metadata": {},
   "outputs": [],
   "source": [
    "#y_pred_ann = np.argmax(y_pred_ann)\n",
    "\n",
    "y_prediction = [np.argmax(i) for i in y_pred_ann]"
   ]
  },
  {
   "cell_type": "code",
   "execution_count": 100,
   "id": "5db5ac1d-07bf-49d1-bea1-ff6e7f6cccd9",
   "metadata": {},
   "outputs": [
    {
     "data": {
      "text/plain": [
       "array([3, 8, 8, 0, 6, 6, 1, 6], dtype=uint8)"
      ]
     },
     "execution_count": 100,
     "metadata": {},
     "output_type": "execute_result"
    }
   ],
   "source": [
    "y_test[:8]"
   ]
  },
  {
   "cell_type": "code",
   "execution_count": 102,
   "id": "c9ea3c34-6b9f-4d61-863e-7077eb23eb95",
   "metadata": {},
   "outputs": [
    {
     "data": {
      "text/plain": [
       "[3, 9, 8, 8, 4, 6, 3, 6]"
      ]
     },
     "execution_count": 102,
     "metadata": {},
     "output_type": "execute_result"
    }
   ],
   "source": [
    "y_prediction[:8]"
   ]
  },
  {
   "cell_type": "code",
   "execution_count": 144,
   "id": "740f9631-f837-4f98-92d8-1baeb832e9e2",
   "metadata": {},
   "outputs": [
    {
     "data": {
      "image/png": "[encoded data removed]",
      "text/plain": [
       "<Figure size 800x100 with 1 Axes>"
      ]
     },
     "metadata": {},
     "output_type": "display_data"
    }
   ],
   "source": [
    "plot(x_test, y_prediction, 2)"
   ]
  },
  {
   "cell_type": "code",
   "execution_count": 98,
   "id": "a5b0aeb3-dedb-40f3-8f4c-1b506bb99782",
   "metadata": {},
   "outputs": [
    {
     "name": "stdout",
     "output_type": "stream",
     "text": [
      "              precision    recall  f1-score   support\n",
      "\n",
      "           0       0.62      0.34      0.44      1000\n",
      "           1       0.47      0.58      0.52      1000\n",
      "           2       0.47      0.09      0.15      1000\n",
      "           3       0.35      0.23      0.27      1000\n",
      "           4       0.49      0.25      0.33      1000\n",
      "           5       0.38      0.34      0.36      1000\n",
      "           6       0.42      0.59      0.49      1000\n",
      "           7       0.42      0.56      0.48      1000\n",
      "           8       0.60      0.50      0.55      1000\n",
      "           9       0.30      0.72      0.42      1000\n",
      "\n",
      "    accuracy                           0.42     10000\n",
      "   macro avg       0.45      0.42      0.40     10000\n",
      "weighted avg       0.45      0.42      0.40     10000\n",
      "\n"
     ]
    }
   ],
   "source": [
    "from sklearn.metrics import confusion_matrix , classification_report\n",
    "\n",
    "report = classification_report(y_test, y_prediction)\n",
    "print(report)"
   ]
  },
  {
   "cell_type": "markdown",
   "id": "180dc1ff-f916-48a8-bf33-1fdc498f441b",
   "metadata": {},
   "source": [
    "#### ANN gives accuracy  42% on train set and  42% on test set for 5 epochs."
   ]
  },
  {
   "cell_type": "code",
   "execution_count": 148,
   "id": "17b701dc-0738-4ad0-a118-85b4b82a5567",
   "metadata": {},
   "outputs": [
    {
     "name": "stderr",
     "output_type": "stream",
     "text": [
      "C:\\Users\\Admin\\anaconda3\\Lib\\site-packages\\keras\\src\\layers\\convolutional\\base_conv.py:113: UserWarning: Do not pass an `input_shape`/`input_dim` argument to a layer. When using Sequential models, prefer using an `Input(shape)` object as the first layer in the model instead.\n",
      "  super().__init__(activity_regularizer=activity_regularizer, **kwargs)\n"
     ]
    },
    {
     "name": "stdout",
     "output_type": "stream",
     "text": [
      "Epoch 1/5\n",
      "\u001b[1m1563/1563\u001b[0m \u001b[32m━━━━━━━━━━━━━━━━━━━━\u001b[0m\u001b[37m\u001b[0m \u001b[1m19s\u001b[0m 11ms/step - accuracy: 0.2881 - loss: 1.9753\n",
      "Epoch 2/5\n",
      "\u001b[1m1563/1563\u001b[0m \u001b[32m━━━━━━━━━━━━━━━━━━━━\u001b[0m\u001b[37m\u001b[0m \u001b[1m17s\u001b[0m 11ms/step - accuracy: 0.4338 - loss: 1.5848\n",
      "Epoch 3/5\n",
      "\u001b[1m1563/1563\u001b[0m \u001b[32m━━━━━━━━━━━━━━━━━━━━\u001b[0m\u001b[37m\u001b[0m \u001b[1m18s\u001b[0m 11ms/step - accuracy: 0.4938 - loss: 1.4181\n",
      "Epoch 4/5\n",
      "\u001b[1m1563/1563\u001b[0m \u001b[32m━━━━━━━━━━━━━━━━━━━━\u001b[0m\u001b[37m\u001b[0m \u001b[1m17s\u001b[0m 11ms/step - accuracy: 0.5333 - loss: 1.3160\n",
      "Epoch 5/5\n",
      "\u001b[1m1563/1563\u001b[0m \u001b[32m━━━━━━━━━━━━━━━━━━━━\u001b[0m\u001b[37m\u001b[0m \u001b[1m17s\u001b[0m 11ms/step - accuracy: 0.5660 - loss: 1.2303\n"
     ]
    },
    {
     "data": {
      "text/plain": [
       "<keras.src.callbacks.history.History at 0x1e69bbfd970>"
      ]
     },
     "execution_count": 148,
     "metadata": {},
     "output_type": "execute_result"
    }
   ],
   "source": [
    "## Now make CNN model\n",
    "cnn = keras.Sequential([\n",
    "    keras.layers.Conv2D(filters=32, kernel_size=(3,3), activation='relu', input_shape=(32, 32, 3)),\n",
    "    keras.layers.MaxPooling2D(pool_size=(2, 2)),\n",
    "\n",
    "    keras.layers.Conv2D(filters=64, kernel_size=(3, 3), activation='relu'),\n",
    "    keras.layers.MaxPooling2D((2, 2)),\n",
    "\n",
    "    keras.layers.Flatten(),\n",
    "    keras.layers.Dense(64, activation='relu'),\n",
    "    keras.layers.Dense(10, activation='softmax')\n",
    "])\n",
    "cnn.compile(\n",
    "    optimizer='SGD',\n",
    "    loss='sparse_categorical_crossentropy',\n",
    "    metrics=['accuracy']\n",
    ")\n",
    "cnn.fit(x_train, y_train, epochs=5)"
   ]
  },
  {
   "cell_type": "code",
   "execution_count": 149,
   "id": "1821a042-b4d6-47f7-ba5c-ffbefad88787",
   "metadata": {},
   "outputs": [
    {
     "name": "stdout",
     "output_type": "stream",
     "text": [
      "\u001b[1m313/313\u001b[0m \u001b[32m━━━━━━━━━━━━━━━━━━━━\u001b[0m\u001b[37m\u001b[0m \u001b[1m2s\u001b[0m 5ms/step - accuracy: 0.5440 - loss: 1.2736\n"
     ]
    },
    {
     "data": {
      "text/plain": [
       "[1.2735755443572998, 0.5440000295639038]"
      ]
     },
     "execution_count": 149,
     "metadata": {},
     "output_type": "execute_result"
    }
   ],
   "source": [
    "cnn.evaluate(x_test, y_test)"
   ]
  },
  {
   "cell_type": "code",
   "execution_count": 152,
   "id": "8bc13531-11ab-495e-82c0-af1cd8b2869f",
   "metadata": {},
   "outputs": [
    {
     "name": "stdout",
     "output_type": "stream",
     "text": [
      "\u001b[1m313/313\u001b[0m \u001b[32m━━━━━━━━━━━━━━━━━━━━\u001b[0m\u001b[37m\u001b[0m \u001b[1m2s\u001b[0m 5ms/step\n"
     ]
    }
   ],
   "source": [
    "y_pred = cnn.predict(x_test)"
   ]
  },
  {
   "cell_type": "code",
   "execution_count": 158,
   "id": "638fe86e-1fd7-4a06-9c76-328949c10f05",
   "metadata": {},
   "outputs": [
    {
     "name": "stdout",
     "output_type": "stream",
     "text": [
      "              precision    recall  f1-score   support\n",
      "\n",
      "           0       0.54      0.75      0.63      1000\n",
      "           1       0.73      0.63      0.68      1000\n",
      "           2       0.49      0.39      0.43      1000\n",
      "           3       0.36      0.41      0.38      1000\n",
      "           4       0.62      0.32      0.42      1000\n",
      "           5       0.34      0.70      0.45      1000\n",
      "           6       0.75      0.51      0.61      1000\n",
      "           7       0.69      0.56      0.62      1000\n",
      "           8       0.82      0.50      0.62      1000\n",
      "           9       0.60      0.67      0.63      1000\n",
      "\n",
      "    accuracy                           0.54     10000\n",
      "   macro avg       0.59      0.54      0.55     10000\n",
      "weighted avg       0.59      0.54      0.55     10000\n",
      "\n"
     ]
    }
   ],
   "source": [
    "from sklearn.metrics import confusion_matrix , classification_report\n",
    "y_predictions = [np.argmax(e) for e in y_pred]\n",
    "report = classification_report(y_test, y_predictions)\n",
    "print(report)"
   ]
  },
  {
   "cell_type": "code",
   "execution_count": 164,
   "id": "b9483269-9ac1-4af6-9169-95ba10ede13a",
   "metadata": {},
   "outputs": [
    {
     "data": {
      "image/png": "[encoded data removed]",
      "text/plain": [
       "<Figure size 800x100 with 1 Axes>"
      ]
     },
     "metadata": {},
     "output_type": "display_data"
    }
   ],
   "source": [
    "plot(x_test, y_predictions, 8)"
   ]
  },
  {
   "cell_type": "code",
   "execution_count": null,
   "id": "a389a010-cbe1-46fc-a93b-fe1bced8d546",
   "metadata": {},
   "outputs": [],
   "source": []
  }
 ],
 "metadata": {
  "kernelspec": {
   "display_name": "Python [conda env:base] *",
   "language": "python",
   "name": "conda-base-py"
  },
  "language_info": {
   "codemirror_mode": {
    "name": "ipython",
    "version": 3
   },
   "file_extension": ".py",
   "mimetype": "text/x-python",
   "name": "python",
   "nbconvert_exporter": "python",
   "pygments_lexer": "ipython3",
   "version": "3.12.7"
  }
 },
 "nbformat": 4,
 "nbformat_minor": 5
}
