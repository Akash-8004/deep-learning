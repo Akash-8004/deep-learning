{
 "cells": [
  {
   "cell_type": "markdown",
   "id": "bdec81f6-473d-45fc-a6e5-2c84e41430a8",
   "metadata": {},
   "source": [
    "## 📘 Derivatives Reference\n",
    "\n",
    "For a complete list of **derivative rules**, examples, and explanations, refer to the official guide:\n",
    "\n",
    "👉 [**Derivatives Rules — Maths Is Fun**](https://www.mathsisfun.com/calculus/derivatives-rules.html)\n",
    "\n",
    "This page covers:\n",
    "- 🔹 Power Rule  \n",
    "- 🔹 Product Rule  \n",
    "- 🔹 Quotient Rule  \n",
    "- 🔹 Chain Rule  \n",
    "- 🔹 Exponential and Logarithmic Derivatives  \n",
    "- 🔹 Trigonometric Derivatives  \n",
    "- 🔹 Inverse Trigonometric Derivatives  \n",
    "\n",
    "💡 **Tip:** It’s a great visual and beginner-friendly resource for mastering the basics of calculus differentiation!\n"
   ]
  },
  {
   "cell_type": "code",
   "execution_count": null,
   "id": "a95678a0-3406-4b2c-8086-6709886aedf0",
   "metadata": {},
   "outputs": [],
   "source": []
  }
 ],
 "metadata": {
  "kernelspec": {
   "display_name": "Python [conda env:base] *",
   "language": "python",
   "name": "conda-base-py"
  },
  "language_info": {
   "codemirror_mode": {
    "name": "ipython",
    "version": 3
   },
   "file_extension": ".py",
   "mimetype": "text/x-python",
   "name": "python",
   "nbconvert_exporter": "python",
   "pygments_lexer": "ipython3",
   "version": "3.12.7"
  }
 },
 "nbformat": 4,
 "nbformat_minor": 5
}
