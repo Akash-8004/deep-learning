{
 "cells": [
  {
   "cell_type": "code",
   "execution_count": 1,
   "id": "b97ec906-25b7-4282-a10b-836e7909fb94",
   "metadata": {},
   "outputs": [
    {
     "name": "stdout",
     "output_type": "stream",
     "text": [
      "TensorFlow version: 2.10.0\n",
      "Num GPUs Available: 1\n"
     ]
    }
   ],
   "source": [
    "import tensorflow as tf\n",
    "from tensorflow import keras\n",
    "print(\"TensorFlow version:\", tf.__version__)\n",
    "print(\"Num GPUs Available:\", len(tf.config.list_physical_devices('GPU')))\n"
   ]
  },
  {
   "cell_type": "code",
   "execution_count": 2,
   "id": "c20a3e6d-e59e-4428-a274-e52222c5d6fd",
   "metadata": {},
   "outputs": [
    {
     "name": "stdout",
     "output_type": "stream",
     "text": [
      "TensorFlow version: 2.10.0\n",
      "Devices: [PhysicalDevice(name='/physical_device:CPU:0', device_type='CPU'), PhysicalDevice(name='/physical_device:GPU:0', device_type='GPU')]\n"
     ]
    }
   ],
   "source": [
    "import tensorflow as tf\n",
    "print(\"TensorFlow version:\", tf.__version__)\n",
    "print(\"Devices:\", tf.config.list_physical_devices())\n"
   ]
  },
  {
   "cell_type": "code",
   "execution_count": 3,
   "id": "0211f022-f847-4489-a3d8-f388e952280c",
   "metadata": {},
   "outputs": [
    {
     "name": "stdout",
     "output_type": "stream",
     "text": [
      "Python 3.10.0\n"
     ]
    }
   ],
   "source": [
    "!python --version\n"
   ]
  },
  {
   "cell_type": "code",
   "execution_count": 4,
   "id": "ba76cfac-7f12-4ce9-9e0f-202cf15f4aa5",
   "metadata": {},
   "outputs": [
    {
     "name": "stdout",
     "output_type": "stream",
     "text": [
      "TensorFlow version: 2.10.0\n",
      "Devices: [PhysicalDevice(name='/physical_device:CPU:0', device_type='CPU'), PhysicalDevice(name='/physical_device:GPU:0', device_type='GPU')]\n"
     ]
    }
   ],
   "source": [
    "import tensorflow as tf\n",
    "print(\"TensorFlow version:\", tf.__version__)\n",
    "print(\"Devices:\", tf.config.list_physical_devices())"
   ]
  },
  {
   "cell_type": "code",
   "execution_count": 5,
   "id": "17dcbfeb-4023-48e2-8291-dc9b30c7e6c0",
   "metadata": {},
   "outputs": [
    {
     "name": "stdout",
     "output_type": "stream",
     "text": [
      "TensorFlow version: 2.10.0\n",
      "Num GPUs Available: 1\n"
     ]
    }
   ],
   "source": [
    "import tensorflow as tf\n",
    "print(\"TensorFlow version:\", tf.__version__)\n",
    "print(\"Num GPUs Available:\", len(tf.config.list_physical_devices('GPU')))"
   ]
  },
  {
   "cell_type": "code",
   "execution_count": 6,
   "id": "64413140-d440-453f-91b1-1dba7f3caa18",
   "metadata": {},
   "outputs": [],
   "source": [
    "(x_train, y_train), (x_test, y_test) = keras.datasets.cifar10.load_data()"
   ]
  },
  {
   "cell_type": "code",
   "execution_count": 7,
   "id": "71bd6732-bfe9-4236-8735-e8dc4005f91d",
   "metadata": {},
   "outputs": [],
   "source": [
    "import matplotlib.pyplot as plt"
   ]
  },
  {
   "cell_type": "code",
   "execution_count": 10,
   "id": "75146a3d-628b-467b-8997-af14761c8833",
   "metadata": {},
   "outputs": [],
   "source": [
    "def plots(idx):\n",
    "    plt.figure(figsize=(10,1))\n",
    "    plt.imshow(x_train[idx])\n",
    "    plt.axis('off')"
   ]
  },
  {
   "cell_type": "code",
   "execution_count": 11,
   "id": "853064dd-0d29-4281-bc14-8183d267f88e",
   "metadata": {},
   "outputs": [
    {
     "data": {
      "image/png": "[encoded data removed]",
      "text/plain": [
       "<Figure size 1000x100 with 1 Axes>"
      ]
     },
     "metadata": {},
     "output_type": "display_data"
    }
   ],
   "source": [
    "plots(12)"
   ]
  },
  {
   "cell_type": "code",
   "execution_count": 12,
   "id": "f5702182-148d-4978-9b3a-a24633b305b6",
   "metadata": {},
   "outputs": [],
   "source": [
    "classes = [\n",
    "    \"airplane\",\n",
    "    \"automobile\",\n",
    "    \"bird\",\n",
    "    \"cat\",\n",
    "    \"deer\",\n",
    "    \"dog\",\n",
    "    \"frog\",\n",
    "    \"horse\",\n",
    "    \"ship\",\n",
    "    \"truck\"\n",
    "]\n"
   ]
  },
  {
   "cell_type": "code",
   "execution_count": 13,
   "id": "4bf0b514-7226-4c71-aff0-9ac5e31f6918",
   "metadata": {},
   "outputs": [
    {
     "data": {
      "text/plain": [
       "7"
      ]
     },
     "execution_count": 13,
     "metadata": {},
     "output_type": "execute_result"
    }
   ],
   "source": [
    "y_train[12][0]"
   ]
  },
  {
   "cell_type": "code",
   "execution_count": 14,
   "id": "24b32be3-1dca-4e52-9af4-04604e6c59ac",
   "metadata": {},
   "outputs": [
    {
     "data": {
      "text/plain": [
       "'horse'"
      ]
     },
     "execution_count": 14,
     "metadata": {},
     "output_type": "execute_result"
    }
   ],
   "source": [
    "classes[y_train[12][0]]"
   ]
  },
  {
   "cell_type": "code",
   "execution_count": 15,
   "id": "f21780f1-8b57-4834-b6eb-f9d47c1bbae3",
   "metadata": {},
   "outputs": [],
   "source": [
    "x_train_scalled = x_train/255\n",
    "x_test_scalled = x_test/255"
   ]
  },
  {
   "cell_type": "code",
   "execution_count": 16,
   "id": "3f15a85e-e3a8-4205-9203-433a8e37e39c",
   "metadata": {},
   "outputs": [
    {
     "data": {
      "text/plain": [
       "(50000, 32, 32, 3)"
      ]
     },
     "execution_count": 16,
     "metadata": {},
     "output_type": "execute_result"
    }
   ],
   "source": [
    "x_train_scalled.shape"
   ]
  },
  {
   "cell_type": "code",
   "execution_count": 17,
   "id": "c4e96dce-be61-4aea-aea9-0097ae3f2faf",
   "metadata": {},
   "outputs": [
    {
     "data": {
      "text/plain": [
       "array([[4],\n",
       "       [3],\n",
       "       [6],\n",
       "       [6],\n",
       "       [2],\n",
       "       [6],\n",
       "       [3],\n",
       "       [5],\n",
       "       [4],\n",
       "       [0]], dtype=uint8)"
      ]
     },
     "execution_count": 17,
     "metadata": {},
     "output_type": "execute_result"
    }
   ],
   "source": [
    "y_train[20:30]"
   ]
  },
  {
   "cell_type": "code",
   "execution_count": 18,
   "id": "364fab32-e48e-46c6-8989-83674a39ac86",
   "metadata": {},
   "outputs": [
    {
     "data": {
      "text/plain": [
       "array([1., 0., 0., 0., 0., 0., 0., 0., 0., 0.])"
      ]
     },
     "execution_count": 18,
     "metadata": {},
     "output_type": "execute_result"
    }
   ],
   "source": [
    "y_train_categorical = keras.utils.to_categorical(\n",
    "    y_train, num_classes=10, dtype='float'\n",
    ")\n",
    "y_train_categorical[30]"
   ]
  },
  {
   "cell_type": "code",
   "execution_count": 19,
   "id": "7e0d49b3-069c-4dce-b06a-37536771088c",
   "metadata": {},
   "outputs": [
    {
     "data": {
      "text/plain": [
       "\"model = keras.Sequential([\\n    keras.layers.Flatten( input_shape=(32,32,3)),\\n    keras.layers.Dense(3000, activation='relu'),\\n    keras.layers.Dense(3000,  activation='relu'),\\n    keras.layers.Dense(10,  activation='sigmoid')\\n])\\n\\nmodel.compile(\\n    optimizer='SGD',\\n    loss='categorical_crossentropy',\\n    metrics=['accuracy'])\\n\\nmodel.fit(x_train_scalled, y_train_categorical, epochs=30)\""
      ]
     },
     "execution_count": 19,
     "metadata": {},
     "output_type": "execute_result"
    }
   ],
   "source": [
    "\"\"\"model = keras.Sequential([\n",
    "    keras.layers.Flatten( input_shape=(32,32,3)),\n",
    "    keras.layers.Dense(3000, activation='relu'),\n",
    "    keras.layers.Dense(3000,  activation='relu'),\n",
    "    keras.layers.Dense(10,  activation='sigmoid')\n",
    "])\n",
    "\n",
    "model.compile(\n",
    "    optimizer='SGD',\n",
    "    loss='categorical_crossentropy',\n",
    "    metrics=['accuracy'])\n",
    "\n",
    "model.fit(x_train_scalled, y_train_categorical, epochs=30)\"\"\""
   ]
  },
  {
   "cell_type": "code",
   "execution_count": 20,
   "id": "c626de04-10cc-49ef-9b07-5c1ff40ea9a4",
   "metadata": {},
   "outputs": [],
   "source": [
    "def models():\n",
    "    model = keras.Sequential([\n",
    "        keras.layers.Flatten( input_shape=(32,32,3)),\n",
    "        keras.layers.Dense(3000, activation='relu'),\n",
    "        keras.layers.Dense(1000,  activation='relu'),\n",
    "        keras.layers.Dense(10,  activation='sigmoid')\n",
    "    ])\n",
    "\n",
    "    model.compile(\n",
    "        optimizer='SGD',\n",
    "        loss='categorical_crossentropy',\n",
    "        metrics=['accuracy'])\n",
    "\n",
    "    return model"
   ]
  },
  {
   "cell_type": "code",
   "execution_count": 22,
   "id": "afd08495-0a9c-44c4-959e-78d900d9a059",
   "metadata": {},
   "outputs": [
    {
     "name": "stdout",
     "output_type": "stream",
     "text": [
      "1563/1563 [==============================] - 80s 51ms/step - loss: 1.8101 - accuracy: 0.3527\n",
      "1min 24s ± 0 ns per loop (mean ± std. dev. of 1 run, 1 loop each)\n"
     ]
    }
   ],
   "source": [
    "%%timeit -n1 -r1\n",
    "with tf.device('CPU:0'):\n",
    "    cpu_model = models()\n",
    "    cpu_model.fit(x_train_scalled, y_train_categorical, epochs=1)\n"
   ]
  },
  {
   "cell_type": "code",
   "execution_count": 23,
   "id": "8054e7e1-e574-40fc-bfe0-d9a2ef109673",
   "metadata": {},
   "outputs": [
    {
     "name": "stdout",
     "output_type": "stream",
     "text": [
      "1563/1563 [==============================] - 58s 37ms/step - loss: 1.8090 - accuracy: 0.3549\n",
      "1min 11s ± 0 ns per loop (mean ± std. dev. of 1 run, 1 loop each)\n"
     ]
    }
   ],
   "source": [
    "%%timeit -n1 -r1\n",
    "with tf.device('GPU:0'):\n",
    "    gpu_model = models()\n",
    "    gpu_model.fit(x_train_scalled, y_train_categorical, epochs=1)"
   ]
  }
 ],
 "metadata": {
  "kernelspec": {
   "display_name": "TensorFlow (DirectML)",
   "language": "python",
   "name": "tf-directml"
  },
  "language_info": {
   "codemirror_mode": {
    "name": "ipython",
    "version": 3
   },
   "file_extension": ".py",
   "mimetype": "text/x-python",
   "name": "python",
   "nbconvert_exporter": "python",
   "pygments_lexer": "ipython3",
   "version": "3.10.0"
  }
 },
 "nbformat": 4,
 "nbformat_minor": 5
}
