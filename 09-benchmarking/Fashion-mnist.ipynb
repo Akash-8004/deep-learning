{
 "cells": [
  {
   "cell_type": "markdown",
   "id": "5a00d91f-374e-4faf-ad52-3d048da9ebf2",
   "metadata": {},
   "source": [
    "## GPU performance for fashion mnist dataset\n",
    "we are going to do image classification for fashion mnist dataset and then we will benchmark the performance of GPU vs CPU for 1 hidden layer and then for 5 hidden layers. we will eventually fill out this table with your performance benchmark numbers\n",
    "\n",
    "| Hidden Layer               | CPU      | GPU |\n",
    "|------------------|-----------|-------|\n",
    "| 1 | ?     | 0.?  |\n",
    "| 5 | ?      | ?  |\n",
    "\n"
   ]
  },
  {
   "cell_type": "code",
   "execution_count": 1,
   "id": "26b9d3af-56ce-4e2a-8aec-2e021375554f",
   "metadata": {},
   "outputs": [
    {
     "name": "stdout",
     "output_type": "stream",
     "text": [
      "2.10.0\n"
     ]
    }
   ],
   "source": [
    "import tensorflow as tf\n",
    "from tensorflow import keras\n",
    "\n",
    "# Helper libraries\n",
    "import numpy as np\n",
    "import matplotlib.pyplot as plt\n",
    "\n",
    "print(tf.__version__)"
   ]
  },
  {
   "cell_type": "code",
   "execution_count": 22,
   "id": "ad7de415-2527-4c0b-beca-82d7942a71be",
   "metadata": {},
   "outputs": [
    {
     "data": {
      "text/plain": [
       "[PhysicalDevice(name='/physical_device:CPU:0', device_type='CPU'),\n",
       " PhysicalDevice(name='/physical_device:GPU:0', device_type='GPU')]"
      ]
     },
     "execution_count": 22,
     "metadata": {},
     "output_type": "execute_result"
    }
   ],
   "source": [
    "tf.config.experimental.list_physical_devices()"
   ]
  },
  {
   "cell_type": "code",
   "execution_count": 3,
   "id": "a5c9b024-95bb-4889-9db2-d52b437254f9",
   "metadata": {},
   "outputs": [],
   "source": [
    "fashion_mnist = keras.datasets.fashion_mnist\n",
    "(train_image, train_label), (test_image, test_label) = fashion_mnist.load_data()"
   ]
  },
  {
   "cell_type": "code",
   "execution_count": 4,
   "id": "048b2b58-61b5-477a-8296-22a90040d297",
   "metadata": {},
   "outputs": [
    {
     "data": {
      "text/plain": [
       "(60000, 28, 28)"
      ]
     },
     "execution_count": 4,
     "metadata": {},
     "output_type": "execute_result"
    }
   ],
   "source": [
    "train_image.shape"
   ]
  },
  {
   "cell_type": "code",
   "execution_count": 5,
   "id": "1fdd0422-062d-4fdb-8dab-8e3c25fe7bc3",
   "metadata": {},
   "outputs": [],
   "source": [
    "classes = [\n",
    "    \"T-shirt/top\",\n",
    "    \"Trouser\",\n",
    "    \"Pullover\",\n",
    "    \"Dress\",\n",
    "    \"Coat\",\n",
    "    \"Sandal\",\n",
    "    \"Shirt\",\n",
    "    \"Sneaker\",\n",
    "    \"Bag\",\n",
    "    \"Ankle boot\"\n",
    "]\n"
   ]
  },
  {
   "cell_type": "code",
   "execution_count": 6,
   "id": "6ecef96d-ad84-4278-aa3a-615dd01867bc",
   "metadata": {},
   "outputs": [
    {
     "data": {
      "text/plain": [
       "9"
      ]
     },
     "execution_count": 6,
     "metadata": {},
     "output_type": "execute_result"
    }
   ],
   "source": [
    "test_label[0]"
   ]
  },
  {
   "cell_type": "code",
   "execution_count": 7,
   "id": "4229e2e6-4244-4c0f-8e53-6f7e1f899710",
   "metadata": {},
   "outputs": [
    {
     "data": {
      "text/plain": [
       "'Ankle boot'"
      ]
     },
     "execution_count": 7,
     "metadata": {},
     "output_type": "execute_result"
    }
   ],
   "source": [
    "classes[train_label[0]]"
   ]
  },
  {
   "cell_type": "code",
   "execution_count": 8,
   "id": "a5a531e9-5d00-421a-9a4b-551ac85d0e31",
   "metadata": {},
   "outputs": [],
   "source": [
    "def images(idx):\n",
    "    plt.figure(figsize=(10,1))\n",
    "    plt.imshow(train_image[idx])\n",
    "    plt.axis('off')"
   ]
  },
  {
   "cell_type": "code",
   "execution_count": 9,
   "id": "9f3f0d62-59dc-4c2d-877f-7b3c1d5e8b0b",
   "metadata": {},
   "outputs": [
    {
     "data": {
      "image/png": "[encoded data removed]",
      "text/plain": [
       "<Figure size 1000x100 with 1 Axes>"
      ]
     },
     "metadata": {},
     "output_type": "display_data"
    }
   ],
   "source": [
    "images(0)"
   ]
  },
  {
   "cell_type": "code",
   "execution_count": 10,
   "id": "c14ac3cb-cc22-43af-852c-baba25c261ae",
   "metadata": {},
   "outputs": [],
   "source": [
    "#scalling\n",
    "train_image_scalled = train_image/255\n",
    "test_image_scalled = test_image/255"
   ]
  },
  {
   "cell_type": "code",
   "execution_count": 11,
   "id": "ecd89269-4c51-4939-88b1-cf99db21b20e",
   "metadata": {},
   "outputs": [
    {
     "data": {
      "text/plain": [
       "(10000, 28, 28)"
      ]
     },
     "execution_count": 11,
     "metadata": {},
     "output_type": "execute_result"
    }
   ],
   "source": [
    "test_image_scalled.shape"
   ]
  },
  {
   "cell_type": "code",
   "execution_count": 12,
   "id": "4d34f967-a4a1-4922-899b-622a0d291ac7",
   "metadata": {},
   "outputs": [
    {
     "name": "stdout",
     "output_type": "stream",
     "text": [
      "[0 0 0 0 0 0 0 0 0 1]\n",
      "[0 0 0 0 0 0 0 0 0 1]\n"
     ]
    }
   ],
   "source": [
    "#categorical encoding\n",
    "train_label_categorical = keras.utils.to_categorical(\n",
    "    train_label, num_classes=10, dtype='int'\n",
    ")\n",
    "test_label_categorical = keras.utils.to_categorical(\n",
    "    test_label, num_classes=10, dtype='int'\n",
    ")\n",
    "print(test_label_categorical[0])\n",
    "print(train_label_categorical[0])"
   ]
  },
  {
   "cell_type": "markdown",
   "id": "5700c73d-44aa-4c12-9a6d-b296928dbaa0",
   "metadata": {},
   "source": [
    "#### Model Traing"
   ]
  },
  {
   "cell_type": "code",
   "execution_count": 17,
   "id": "e963bac3-3a50-4245-8f30-78a389cb690e",
   "metadata": {},
   "outputs": [],
   "source": [
    "def models(hidden_layers):\n",
    "    layers = []\n",
    "    # Your code goes here-----------START\n",
    "    Flattenlayer = keras.layers.Flatten(input_shape=(28,28))\n",
    "    layers.append(Flattenlayer)\n",
    "    for i in range(hidden_layers):\n",
    "        hidden_layers = keras.layers.Dense(550, activation='relu')\n",
    "        layers.append(hidden_layers)\n",
    "    output_layer = keras.layers.Dense(10, activation='sigmoid')\n",
    "    layers.append(output_layer)\n",
    "    \n",
    "    model = keras.Sequential(layers)\n",
    "    \n",
    "    model.compile(optimizer='adam',\n",
    "                  loss='categorical_crossentropy',\n",
    "                  metrics=['accuracy'])\n",
    "    \n",
    "    return model"
   ]
  },
  {
   "cell_type": "code",
   "execution_count": 18,
   "id": "8c5b7a0c-6c9c-4ad4-ae40-eb322f956486",
   "metadata": {},
   "outputs": [
    {
     "data": {
      "text/plain": [
       "array([0, 0, 1, 0, 0, 0, 0, 0, 0, 0])"
      ]
     },
     "execution_count": 18,
     "metadata": {},
     "output_type": "execute_result"
    }
   ],
   "source": [
    "train_label_categorical[7]"
   ]
  },
  {
   "cell_type": "code",
   "execution_count": 19,
   "id": "a920ca62-933d-4d8d-b3ac-95640ac77859",
   "metadata": {},
   "outputs": [
    {
     "data": {
      "text/plain": [
       "(60000, 28, 28)"
      ]
     },
     "execution_count": 19,
     "metadata": {},
     "output_type": "execute_result"
    }
   ],
   "source": [
    "train_image_scalled.shape"
   ]
  },
  {
   "cell_type": "code",
   "execution_count": 21,
   "id": "97a47614-468b-4a43-a90d-939d976948c5",
   "metadata": {},
   "outputs": [
    {
     "name": "stdout",
     "output_type": "stream",
     "text": [
      "1875/1875 [==============================] - 13s 7ms/step - loss: 0.4733 - accuracy: 0.8318\n",
      "13.7 s ± 0 ns per loop (mean ± std. dev. of 1 run, 1 loop each)\n"
     ]
    }
   ],
   "source": [
    "%%timeit -n1 -r1\n",
    "model = models(1)\n",
    "model.fit(train_image_scalled, train_label_categorical, epochs=1)"
   ]
  },
  {
   "cell_type": "code",
   "execution_count": 23,
   "id": "9a1d8866-6b6d-49ee-8542-bd24dc2cdc56",
   "metadata": {},
   "outputs": [
    {
     "name": "stdout",
     "output_type": "stream",
     "text": [
      "313/313 [==============================] - 1s 3ms/step\n"
     ]
    }
   ],
   "source": [
    "prediction = model.predict(test_image_scalled)"
   ]
  },
  {
   "cell_type": "code",
   "execution_count": 41,
   "id": "473a04ee-5174-4525-b2a0-8916b73ef774",
   "metadata": {},
   "outputs": [
    {
     "data": {
      "text/plain": [
       "'Ankle boot'"
      ]
     },
     "execution_count": 41,
     "metadata": {},
     "output_type": "execute_result"
    }
   ],
   "source": [
    "classes[test_label[28]]"
   ]
  },
  {
   "cell_type": "code",
   "execution_count": 42,
   "id": "5bd14ce9-b741-459f-b7ab-7faaee6ca070",
   "metadata": {},
   "outputs": [
    {
     "data": {
      "text/plain": [
       "'Ankle boot'"
      ]
     },
     "execution_count": 42,
     "metadata": {},
     "output_type": "execute_result"
    }
   ],
   "source": [
    "classes[np.argmax(prediction[28])]"
   ]
  },
  {
   "cell_type": "markdown",
   "id": "83a025d0-e376-48b3-8fb3-2adfd9d4c453",
   "metadata": {},
   "source": [
    "### 5 Epocs performance comparison for 1 hidden layer"
   ]
  },
  {
   "cell_type": "code",
   "execution_count": 47,
   "id": "3c4b1f20-1e54-40ae-a5ba-013668f01a45",
   "metadata": {},
   "outputs": [
    {
     "name": "stdout",
     "output_type": "stream",
     "text": [
      "Epoch 1/5\n",
      "1875/1875 [==============================] - 9s 5ms/step - loss: 0.4769 - accuracy: 0.8286\n",
      "Epoch 2/5\n",
      "1875/1875 [==============================] - 8s 5ms/step - loss: 0.3580 - accuracy: 0.8685\n",
      "Epoch 3/5\n",
      "1875/1875 [==============================] - 9s 5ms/step - loss: 0.3230 - accuracy: 0.8799\n",
      "Epoch 4/5\n",
      "1875/1875 [==============================] - 8s 4ms/step - loss: 0.2970 - accuracy: 0.8913\n",
      "Epoch 5/5\n",
      "1875/1875 [==============================] - 8s 5ms/step - loss: 0.2804 - accuracy: 0.8955\n",
      "43.1 s ± 0 ns per loop (mean ± std. dev. of 1 run, 1 loop each)\n"
     ]
    }
   ],
   "source": [
    "%%timeit -n1 -r1\n",
    "with tf.device('/CPU:0'):\n",
    "    cpu_model = models(1)\n",
    "    cpu_model.fit(train_image_scalled, train_label_categorical, epochs=5)\n"
   ]
  },
  {
   "cell_type": "code",
   "execution_count": 48,
   "id": "5d271f7c-4d9d-46e7-9898-4be530a76d47",
   "metadata": {},
   "outputs": [
    {
     "name": "stdout",
     "output_type": "stream",
     "text": [
      "Epoch 1/5\n",
      "1875/1875 [==============================] - 15s 8ms/step - loss: 0.4698 - accuracy: 0.8320\n",
      "Epoch 2/5\n",
      "1875/1875 [==============================] - 15s 8ms/step - loss: 0.3571 - accuracy: 0.8692\n",
      "Epoch 3/5\n",
      "1875/1875 [==============================] - 15s 8ms/step - loss: 0.3217 - accuracy: 0.8811\n",
      "Epoch 4/5\n",
      "1875/1875 [==============================] - 15s 8ms/step - loss: 0.2985 - accuracy: 0.8889\n",
      "Epoch 5/5\n",
      "1875/1875 [==============================] - 14s 8ms/step - loss: 0.2775 - accuracy: 0.8967\n",
      "1min 14s ± 0 ns per loop (mean ± std. dev. of 1 run, 1 loop each)\n"
     ]
    }
   ],
   "source": [
    "%%timeit -n1 -r1\n",
    "with tf.device('/GPU:0'):\n",
    "    cpu_model = models(1)\n",
    "    cpu_model.fit(train_image_scalled, train_label_categorical, epochs=5)\n"
   ]
  },
  {
   "cell_type": "markdown",
   "id": "8e211cc9-28a5-48a2-9c69-527df170ab8d",
   "metadata": {},
   "source": [
    "### 5 Epocs performance comparison with 5 hidden layers"
   ]
  },
  {
   "cell_type": "code",
   "execution_count": 45,
   "id": "e2a36c0b-b29f-4e93-81a1-e1ca61ba339e",
   "metadata": {},
   "outputs": [
    {
     "name": "stdout",
     "output_type": "stream",
     "text": [
      "Epoch 1/5\n",
      "1875/1875 [==============================] - 32s 17ms/step - loss: 0.5170 - accuracy: 0.8132\n",
      "Epoch 2/5\n",
      "1875/1875 [==============================] - 30s 16ms/step - loss: 0.3962 - accuracy: 0.8570\n",
      "Epoch 3/5\n",
      "1875/1875 [==============================] - 30s 16ms/step - loss: 0.3541 - accuracy: 0.8728\n",
      "Epoch 4/5\n",
      "1875/1875 [==============================] - 29s 16ms/step - loss: 0.3284 - accuracy: 0.8804\n",
      "Epoch 5/5\n",
      "1875/1875 [==============================] - 29s 15ms/step - loss: 0.3158 - accuracy: 0.8856\n",
      "2min 29s ± 0 ns per loop (mean ± std. dev. of 1 run, 1 loop each)\n"
     ]
    }
   ],
   "source": [
    "%%timeit -n1 -r1\n",
    "with tf.device('/CPU:0'):\n",
    "    cpu_model = models(5)\n",
    "    cpu_model.fit(train_image_scalled, train_label_categorical, epochs=5)"
   ]
  },
  {
   "cell_type": "code",
   "execution_count": 46,
   "id": "84459e1c-0f7c-483b-b12a-f93d2945b65e",
   "metadata": {},
   "outputs": [
    {
     "name": "stdout",
     "output_type": "stream",
     "text": [
      "Epoch 1/5\n",
      "1875/1875 [==============================] - 21s 11ms/step - loss: 0.5236 - accuracy: 0.8101\n",
      "Epoch 2/5\n",
      "1875/1875 [==============================] - 21s 11ms/step - loss: 0.3916 - accuracy: 0.8611\n",
      "Epoch 3/5\n",
      "1875/1875 [==============================] - 20s 11ms/step - loss: 0.3522 - accuracy: 0.8735\n",
      "Epoch 4/5\n",
      "1875/1875 [==============================] - 20s 11ms/step - loss: 0.3304 - accuracy: 0.8810\n",
      "Epoch 5/5\n",
      "1875/1875 [==============================] - 20s 11ms/step - loss: 0.3079 - accuracy: 0.8865\n",
      "1min 42s ± 0 ns per loop (mean ± std. dev. of 1 run, 1 loop each)\n"
     ]
    }
   ],
   "source": [
    "%%timeit -n1 -r1\n",
    "with tf.device('/GPU:0'):\n",
    "    cpu_model = models(5)\n",
    "    cpu_model.fit(train_image_scalled, train_label_categorical, epochs=5)"
   ]
  },
  {
   "cell_type": "markdown",
   "id": "5a6f94e7-c07f-44b7-ae72-ef610e8fa71c",
   "metadata": {},
   "source": [
    "##### As of my laptop capability \n",
    "| Hidden Layer               | CPU      | GPU |\n",
    "|------------------|-----------|-------|\n",
    "| 1 | 43.     | 0.?  |\n",
    "| 5 | ?      | ?  |"
   ]
  },
  {
   "cell_type": "code",
   "execution_count": null,
   "id": "06ec158c-856a-47dc-a076-ad5dbf719d56",
   "metadata": {},
   "outputs": [],
   "source": []
  }
 ],
 "metadata": {
  "kernelspec": {
   "display_name": "TensorFlow (DirectML)",
   "language": "python",
   "name": "tf-directml"
  },
  "language_info": {
   "codemirror_mode": {
    "name": "ipython",
    "version": 3
   },
   "file_extension": ".py",
   "mimetype": "text/x-python",
   "name": "python",
   "nbconvert_exporter": "python",
   "pygments_lexer": "ipython3",
   "version": "3.10.0"
  }
 },
 "nbformat": 4,
 "nbformat_minor": 5
}
