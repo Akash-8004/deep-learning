{
 "cells": [
  {
   "cell_type": "markdown",
   "id": "f4cbfa80-3503-4ffe-8db4-8c64ccfa3f94",
   "metadata": {},
   "source": [
    "## BatchGD vs StochasticGD vs Mini-BatchGD"
   ]
  },
  {
   "cell_type": "markdown",
   "id": "17de8129-7e96-4079-9c52-c310212a8102",
   "metadata": {},
   "source": [
    "![](differnces.webp)"
   ]
  },
  {
   "cell_type": "markdown",
   "id": "f2d483ea-449e-401a-a2a3-f11aa28e6cd1",
   "metadata": {},
   "source": [
    "![](0_5juVrfuW5fsTNK3W.png)"
   ]
  },
  {
   "cell_type": "markdown",
   "id": "96526132-88b1-413f-93dd-1912dfc72dc9",
   "metadata": {},
   "source": [
    "#### Using bangalore price dataset we explore these three concept"
   ]
  },
  {
   "cell_type": "code",
   "execution_count": 5,
   "id": "c78c7e24-21af-4cad-9486-10738e7e7588",
   "metadata": {},
   "outputs": [],
   "source": [
    "import pandas as pd\n",
    "import numpy as np\n",
    "import matplotlib.pyplot as plt"
   ]
  },
  {
   "cell_type": "code",
   "execution_count": 6,
   "id": "f21c5acd-81ae-42ce-8a03-3cc03ab0a475",
   "metadata": {},
   "outputs": [
    {
     "data": {
      "text/html": [
       "<div>\n",
       "<style scoped>\n",
       "    .dataframe tbody tr th:only-of-type {\n",
       "        vertical-align: middle;\n",
       "    }\n",
       "\n",
       "    .dataframe tbody tr th {\n",
       "        vertical-align: top;\n",
       "    }\n",
       "\n",
       "    .dataframe thead th {\n",
       "        text-align: right;\n",
       "    }\n",
       "</style>\n",
       "<table border=\"1\" class=\"dataframe\">\n",
       "  <thead>\n",
       "    <tr style=\"text-align: right;\">\n",
       "      <th></th>\n",
       "      <th>area</th>\n",
       "      <th>bedrooms</th>\n",
       "      <th>price</th>\n",
       "    </tr>\n",
       "  </thead>\n",
       "  <tbody>\n",
       "    <tr>\n",
       "      <th>12</th>\n",
       "      <td>1000</td>\n",
       "      <td>2</td>\n",
       "      <td>38.0</td>\n",
       "    </tr>\n",
       "    <tr>\n",
       "      <th>16</th>\n",
       "      <td>1180</td>\n",
       "      <td>3</td>\n",
       "      <td>48.0</td>\n",
       "    </tr>\n",
       "    <tr>\n",
       "      <th>7</th>\n",
       "      <td>3300</td>\n",
       "      <td>4</td>\n",
       "      <td>155.0</td>\n",
       "    </tr>\n",
       "    <tr>\n",
       "      <th>11</th>\n",
       "      <td>2785</td>\n",
       "      <td>4</td>\n",
       "      <td>140.0</td>\n",
       "    </tr>\n",
       "    <tr>\n",
       "      <th>3</th>\n",
       "      <td>1521</td>\n",
       "      <td>3</td>\n",
       "      <td>75.0</td>\n",
       "    </tr>\n",
       "  </tbody>\n",
       "</table>\n",
       "</div>"
      ],
      "text/plain": [
       "    area  bedrooms  price\n",
       "12  1000         2   38.0\n",
       "16  1180         3   48.0\n",
       "7   3300         4  155.0\n",
       "11  2785         4  140.0\n",
       "3   1521         3   75.0"
      ]
     },
     "execution_count": 6,
     "metadata": {},
     "output_type": "execute_result"
    }
   ],
   "source": [
    "df = pd.read_csv(\"homeprices_banglore.csv\")\n",
    "df.sample(5)"
   ]
  },
  {
   "cell_type": "code",
   "execution_count": 7,
   "id": "17b88864-5186-42c8-b60b-9fc147f3f593",
   "metadata": {},
   "outputs": [
    {
     "data": {
      "text/plain": [
       "(20, 3)"
      ]
     },
     "execution_count": 7,
     "metadata": {},
     "output_type": "execute_result"
    }
   ],
   "source": [
    "df.shape"
   ]
  },
  {
   "cell_type": "markdown",
   "id": "ca3aa43b-ce7c-4f17-84cf-1a8ddbee7f09",
   "metadata": {},
   "source": [
    "### Implementing Batch gradient decent and SGD in plain python"
   ]
  },
  {
   "cell_type": "code",
   "execution_count": 84,
   "id": "2cffa9cb-eaa9-4459-9990-ccffdc3e08d1",
   "metadata": {},
   "outputs": [],
   "source": [
    "#train test split\n",
    "from sklearn.model_selection import train_test_split\n",
    "X = df[[\"area\", \"bedrooms\"]]\n",
    "y = df.price\n",
    "# Split the data (80% train, 20% test)\n",
    "X_train, X_test, y_train, y_test = train_test_split(X, y, test_size=0.2, random_state=42)"
   ]
  },
  {
   "cell_type": "code",
   "execution_count": 10,
   "id": "8cb2d584-133f-4d1d-b764-6e42116d018d",
   "metadata": {},
   "outputs": [],
   "source": [
    "#saclling dataset with min max scalling\n",
    "from sklearn.preprocessing import MinMaxScaler\n",
    "scaler_X = MinMaxScaler()\n",
    "scaler_y = MinMaxScaler()\n",
    "X_train_scaled = scaler_X.fit_transform(X_train)\n",
    "X_test_scaled = scaler_X.fit_transform(X_test)\n",
    "y_train_scaled = scaler_y.fit_transform(y_train.values.reshape(y_train.shape[0],1))\n",
    "y_test_scaled = scaler_y.fit_transform(y_test.values.reshape(y_test.shape[0],1))"
   ]
  },
  {
   "cell_type": "code",
   "execution_count": 11,
   "id": "2fbb0b51-e5d5-42a4-878e-5748e38fb622",
   "metadata": {},
   "outputs": [
    {
     "data": {
      "text/plain": [
       "array([[0.13333333],\n",
       "       [0.04444444],\n",
       "       [0.8       ],\n",
       "       [0.31851852],\n",
       "       [0.51851852],\n",
       "       [0.11851852],\n",
       "       [0.05925926],\n",
       "       [0.22222222],\n",
       "       [1.        ],\n",
       "       [0.        ],\n",
       "       [0.14074074],\n",
       "       [0.04444444],\n",
       "       [0.91111111],\n",
       "       [0.37037037],\n",
       "       [0.51111111],\n",
       "       [0.76296296]])"
      ]
     },
     "execution_count": 11,
     "metadata": {},
     "output_type": "execute_result"
    }
   ],
   "source": [
    "y_train_scaled"
   ]
  },
  {
   "cell_type": "markdown",
   "id": "ca41454b-27ec-4d20-97c4-8b2713037e7b",
   "metadata": {},
   "source": [
    "## Keep in mind equation:  price = w1 * area + w2 * bedrooms + bias"
   ]
  },
  {
   "cell_type": "code",
   "execution_count": 13,
   "id": "c1241030-2b39-45ef-981b-6e59c732df3e",
   "metadata": {},
   "outputs": [
    {
     "data": {
      "text/plain": [
       "array([1., 1., 1.])"
      ]
     },
     "execution_count": 13,
     "metadata": {},
     "output_type": "execute_result"
    }
   ],
   "source": [
    "w = np.ones(shape = (3))\n",
    "w"
   ]
  },
  {
   "cell_type": "code",
   "execution_count": 14,
   "id": "0255584e-f337-4a5e-acd6-c45d50177e2f",
   "metadata": {},
   "outputs": [
    {
     "data": {
      "text/plain": [
       "(array([0.69879494, 0.67124693]), -0.2209019047720029, 0.007270854350932237)"
      ]
     },
     "execution_count": 14,
     "metadata": {},
     "output_type": "execute_result"
    }
   ],
   "source": [
    "#Goal is to calculate wr=eight and bias for prediction\n",
    "def batchGD(X, y_true, epochs, learning_rate = 0.01):\n",
    "    w = np.ones(shape = (X.shape[1]))\n",
    "    b = 0\n",
    "    total_samples = X.shape[0]\n",
    "    cost_list = []\n",
    "    epoch_list = []\n",
    "\n",
    "    for i in range(epochs):\n",
    "        y_predicted = np.dot(w, X.T) + b  #price = w1 * area + w2 * bedrooms + bias\n",
    "\n",
    "        w_grad = -(2/total_samples)*(X.T.dot(y_true-y_predicted))\n",
    "        b_grad = -(2/total_samples)*np.sum(y_true-y_predicted)\n",
    "\n",
    "        #adjusting weigts \n",
    "        w = w-learning_rate * w_grad\n",
    "        b = b-learning_rate * b_grad\n",
    "\n",
    "        cost = np.mean(np.square(y_true-y_predicted)) # MSE (Mean Squared Error)\n",
    "        if i%10==0:\n",
    "            cost_list.append(cost)\n",
    "            epoch_list.append(i)\n",
    "\n",
    "    return w, b, cost, cost_list, epoch_list\n",
    "w, b, cost, cost_list, epoch_list = batchGD(X_train_scaled,y_train_scaled.reshape(y_train_scaled.shape[0],),500)\n",
    "w, b, cost"
   ]
  },
  {
   "cell_type": "markdown",
   "id": "2eca63b8-9103-46b6-8eaf-354517e11c62",
   "metadata": {},
   "source": [
    "#### Prediction"
   ]
  },
  {
   "cell_type": "code",
   "execution_count": 16,
   "id": "c49666b6-db70-41e3-a7e8-30987f227222",
   "metadata": {},
   "outputs": [
    {
     "data": {
      "text/html": [
       "<div>\n",
       "<style scoped>\n",
       "    .dataframe tbody tr th:only-of-type {\n",
       "        vertical-align: middle;\n",
       "    }\n",
       "\n",
       "    .dataframe tbody tr th {\n",
       "        vertical-align: top;\n",
       "    }\n",
       "\n",
       "    .dataframe thead th {\n",
       "        text-align: right;\n",
       "    }\n",
       "</style>\n",
       "<table border=\"1\" class=\"dataframe\">\n",
       "  <thead>\n",
       "    <tr style=\"text-align: right;\">\n",
       "      <th></th>\n",
       "      <th>area</th>\n",
       "      <th>bedrooms</th>\n",
       "    </tr>\n",
       "  </thead>\n",
       "  <tbody>\n",
       "    <tr>\n",
       "      <th>0</th>\n",
       "      <td>1056</td>\n",
       "      <td>2</td>\n",
       "    </tr>\n",
       "    <tr>\n",
       "      <th>17</th>\n",
       "      <td>1540</td>\n",
       "      <td>3</td>\n",
       "    </tr>\n",
       "    <tr>\n",
       "      <th>15</th>\n",
       "      <td>1175</td>\n",
       "      <td>2</td>\n",
       "    </tr>\n",
       "    <tr>\n",
       "      <th>1</th>\n",
       "      <td>2600</td>\n",
       "      <td>4</td>\n",
       "    </tr>\n",
       "  </tbody>\n",
       "</table>\n",
       "</div>"
      ],
      "text/plain": [
       "    area  bedrooms\n",
       "0   1056         2\n",
       "17  1540         3\n",
       "15  1175         2\n",
       "1   2600         4"
      ]
     },
     "execution_count": 16,
     "metadata": {},
     "output_type": "execute_result"
    }
   ],
   "source": [
    "X_test"
   ]
  },
  {
   "cell_type": "code",
   "execution_count": 17,
   "id": "a98dfd33-cc88-4a99-8573-5ffac83f51e5",
   "metadata": {},
   "outputs": [
    {
     "data": {
      "text/plain": [
       "0      39.07\n",
       "17     60.00\n",
       "15     42.00\n",
       "1     120.00\n",
       "Name: price, dtype: float64"
      ]
     },
     "execution_count": 17,
     "metadata": {},
     "output_type": "execute_result"
    }
   ],
   "source": [
    "y_test"
   ]
  },
  {
   "cell_type": "code",
   "execution_count": 18,
   "id": "a7a01f0e-30aa-4717-95ff-8f3de68c9e61",
   "metadata": {},
   "outputs": [
    {
     "name": "stderr",
     "output_type": "stream",
     "text": [
      "C:\\Users\\Admin\\anaconda3\\Lib\\site-packages\\sklearn\\base.py:493: UserWarning: X does not have valid feature names, but MinMaxScaler was fitted with feature names\n",
      "  warnings.warn(\n"
     ]
    },
    {
     "data": {
      "text/plain": [
       "66.082318359798"
      ]
     },
     "execution_count": 18,
     "metadata": {},
     "output_type": "execute_result"
    }
   ],
   "source": [
    "def predict(area, bedrooms, w, b):\n",
    "    scaled_X = scaler_X.transform([[area, bedrooms]])[0]\n",
    "    scaled_price = w[0] * scaled_X[0] + w[1] * scaled_X[1] + b\n",
    "    return scaler_y.inverse_transform([[scaled_price]])[0][0]\n",
    "predict(1540,3,w,b)"
   ]
  },
  {
   "cell_type": "markdown",
   "id": "bb3431bd-68e8-4c62-9b3c-aaf852f3a5df",
   "metadata": {},
   "source": [
    "## Now SGD"
   ]
  },
  {
   "cell_type": "code",
   "execution_count": 20,
   "id": "d31fb59d-1328-4732-a892-a86b447bfff7",
   "metadata": {},
   "outputs": [
    {
     "data": {
      "text/plain": [
       "1"
      ]
     },
     "execution_count": 20,
     "metadata": {},
     "output_type": "execute_result"
    }
   ],
   "source": [
    "import random\n",
    "random.randint(0,2)"
   ]
  },
  {
   "cell_type": "code",
   "execution_count": 74,
   "id": "e3141037-a2e8-4b18-ac46-d202683bf9c7",
   "metadata": {},
   "outputs": [
    {
     "data": {
      "text/plain": [
       "(array([0.68024274, 0.64577852]), -0.19914190317412042, 0.0026761633793741225)"
      ]
     },
     "execution_count": 74,
     "metadata": {},
     "output_type": "execute_result"
    }
   ],
   "source": [
    "def SGD(X, y_true, epochs, learning_rate = 0.01):\n",
    "    w = np.ones(shape = (X.shape[1]))\n",
    "    b = 0\n",
    "    total_samples = X.shape[0]\n",
    "    cost_list = []\n",
    "    epoch_list = []\n",
    "\n",
    "    for i in range(epochs):\n",
    "        randomidx = random.randint(0,total_samples-1)\n",
    "        sample_x = X[randomidx]\n",
    "        sample_y = y_true[randomidx]\n",
    "        y_predicted = np.dot(w, sample_x.T) + b\n",
    "\n",
    "        w_grad = -(2/total_samples)*(sample_x.T.dot(sample_y-y_predicted))\n",
    "        b_grad = -(2/total_samples)*(sample_y-y_predicted)\n",
    "\n",
    "        w = w-learning_rate * w_grad\n",
    "        b = b-learning_rate * b_grad\n",
    "\n",
    "        cost = np.square(sample_y-y_predicted)\n",
    "\n",
    "        if i%100==0:\n",
    "            cost_list.append(cost)\n",
    "            epoch_list.append(i)\n",
    "    return w, b, cost, cost_list, epoch_list\n",
    "\n",
    "w_sgd, b_sgd, cost_sgd, cost_list_sgd, epoch_list_sgd = SGD(X_train_scaled,y_train_scaled.reshape(y_train_scaled.shape[0],),10000)\n",
    "w_sgd, b_sgd, cost_sgd"
   ]
  },
  {
   "cell_type": "code",
   "execution_count": 76,
   "id": "b8b99d45-3404-4287-b0c9-103d00c11853",
   "metadata": {},
   "outputs": [
    {
     "data": {
      "text/plain": [
       "(array([0.69879494, 0.67124693]), -0.2209019047720029, 0.007270854350932237)"
      ]
     },
     "execution_count": 76,
     "metadata": {},
     "output_type": "execute_result"
    }
   ],
   "source": [
    "w,b,cost"
   ]
  },
  {
   "cell_type": "code",
   "execution_count": 78,
   "id": "e5da9f37-db55-4f02-90c9-db51a0dbd76a",
   "metadata": {},
   "outputs": [
    {
     "data": {
      "text/plain": [
       "Text(0.5, 1.0, 'Stochastic gradient decent')"
      ]
     },
     "execution_count": 78,
     "metadata": {},
     "output_type": "execute_result"
    },
    {
     "data": {
      "image/png": "[encoded data removed]",
      "text/plain": [
       "<Figure size 640x480 with 1 Axes>"
      ]
     },
     "metadata": {},
     "output_type": "display_data"
    }
   ],
   "source": [
    "plt.plot(epoch_list_sgd, cost_list_sgd)\n",
    "plt.title(\"Stochastic gradient decent\")"
   ]
  },
  {
   "cell_type": "code",
   "execution_count": 80,
   "id": "e72e6960-6e6f-4e8b-88c2-7b775b6aa5b4",
   "metadata": {},
   "outputs": [
    {
     "data": {
      "text/plain": [
       "Text(0.5, 1.0, 'Batch gradient decent')"
      ]
     },
     "execution_count": 80,
     "metadata": {},
     "output_type": "execute_result"
    },
    {
     "data": {
      "image/png": "[encoded data removed]",
      "text/plain": [
       "<Figure size 640x480 with 1 Axes>"
      ]
     },
     "metadata": {},
     "output_type": "display_data"
    }
   ],
   "source": [
    "plt.plot(epoch_list, cost_list)\n",
    "plt.title(\"Batch gradient decent\")"
   ]
  },
  {
   "cell_type": "markdown",
   "id": "26d546a5-209b-46d3-9171-325c5a4efc39",
   "metadata": {},
   "source": [
    "## Exercise\n",
    "Implement mini batch gradient descent in python and plot cost vs epoch graph. Mini batch is intermediate version of batch GD and stochastic GD. In stochastic we used one randomly picked training sample, In mini gradient descent you will use a batch of samples in each iterations. For example if you have total 50 training samples, you can take a batch of 10 samples, calculate cumulitive error for those 10 samples and then adjust weights. In SGD we adjust weights after every one sample. In Batch we adjust weights after going through all samples but in mini batch we do after every m samples (where m is batch size and it is 0 < m < n, where n is total number of samples\n",
    "Solution"
   ]
  },
  {
   "cell_type": "code",
   "execution_count": 151,
   "id": "0994640a-9e27-4dc2-a574-cae59f9edefa",
   "metadata": {},
   "outputs": [],
   "source": [
    "X_train_scaled.shape\n",
    "total_samples = len(X_train_scaled)"
   ]
  },
  {
   "cell_type": "code",
   "execution_count": 237,
   "id": "af612a44-de60-4adf-bdf8-7e0f526f8879",
   "metadata": {},
   "outputs": [
    {
     "data": {
      "text/plain": [
       "(array([0.68894415, 0.50184268]), -0.12857861616969787, 0.0050873203429073685)"
      ]
     },
     "execution_count": 237,
     "metadata": {},
     "output_type": "execute_result"
    }
   ],
   "source": [
    "def mbgd(X, y_true, epochs, learning_rate = 0.01, batch_size=4):\n",
    "    w = np.ones(shape = (X.shape[1]))\n",
    "    b = 0\n",
    "    total_samples = len(X)\n",
    "    cost_list = []\n",
    "    epoch_list = []\n",
    "    for i in range(epochs):\n",
    "        indexes = np.random.choice(total_samples, int(total_samples/4), replace=False)\n",
    "        batch_x = X[indexes]\n",
    "        batch_y = y_true[indexes]\n",
    "\n",
    "        #calculating Y_prediction of batch samples\n",
    "        y_predicted = np.dot(w, batch_x.T) + b  #price = w1 * area + w2 * bedrooms + bias\n",
    "\n",
    "        w_grad = -(2/total_samples)*(batch_x.T.dot(batch_y-y_predicted))\n",
    "        b_grad = -(2/total_samples)*np.sum(batch_y-y_predicted)\n",
    "\n",
    "        #Adjusting weights\n",
    "        w = w-learning_rate * w_grad\n",
    "        b = b-learning_rate * b_grad\n",
    "\n",
    "        cost = np.mean(np.square(batch_y-y_predicted))\n",
    "\n",
    "        if i%10==0:\n",
    "            cost_list.append(cost)\n",
    "            epoch_list.append(i)\n",
    "    return w, b, cost, cost_list, epoch_list\n",
    "\n",
    "\n",
    "w_mbgd, b_mbgd, cost_mbgd, cost_list_mbgd, epoch_list_mbgd = mbgd(X_train_scaled,y_train_scaled.reshape(y_train_scaled.shape[0],),10000)\n",
    "w_mbgd, b_mbgd, cost_mbgd"
   ]
  },
  {
   "cell_type": "code",
   "execution_count": 239,
   "id": "18cd1dae-080c-4102-b934-22dc36e802be",
   "metadata": {},
   "outputs": [
    {
     "data": {
      "text/html": [
       "<div>\n",
       "<style scoped>\n",
       "    .dataframe tbody tr th:only-of-type {\n",
       "        vertical-align: middle;\n",
       "    }\n",
       "\n",
       "    .dataframe tbody tr th {\n",
       "        vertical-align: top;\n",
       "    }\n",
       "\n",
       "    .dataframe thead th {\n",
       "        text-align: right;\n",
       "    }\n",
       "</style>\n",
       "<table border=\"1\" class=\"dataframe\">\n",
       "  <thead>\n",
       "    <tr style=\"text-align: right;\">\n",
       "      <th></th>\n",
       "      <th>area</th>\n",
       "      <th>bedrooms</th>\n",
       "    </tr>\n",
       "  </thead>\n",
       "  <tbody>\n",
       "    <tr>\n",
       "      <th>0</th>\n",
       "      <td>1056</td>\n",
       "      <td>2</td>\n",
       "    </tr>\n",
       "    <tr>\n",
       "      <th>17</th>\n",
       "      <td>1540</td>\n",
       "      <td>3</td>\n",
       "    </tr>\n",
       "    <tr>\n",
       "      <th>15</th>\n",
       "      <td>1175</td>\n",
       "      <td>2</td>\n",
       "    </tr>\n",
       "    <tr>\n",
       "      <th>1</th>\n",
       "      <td>2600</td>\n",
       "      <td>4</td>\n",
       "    </tr>\n",
       "  </tbody>\n",
       "</table>\n",
       "</div>"
      ],
      "text/plain": [
       "    area  bedrooms\n",
       "0   1056         2\n",
       "17  1540         3\n",
       "15  1175         2\n",
       "1   2600         4"
      ]
     },
     "execution_count": 239,
     "metadata": {},
     "output_type": "execute_result"
    }
   ],
   "source": [
    "X_test"
   ]
  },
  {
   "cell_type": "code",
   "execution_count": 241,
   "id": "49d289ab-4ac5-4e3f-97d9-4c04d362fbf5",
   "metadata": {},
   "outputs": [
    {
     "data": {
      "text/plain": [
       "0      39.07\n",
       "17     60.00\n",
       "15     42.00\n",
       "1     120.00\n",
       "Name: price, dtype: float64"
      ]
     },
     "execution_count": 241,
     "metadata": {},
     "output_type": "execute_result"
    }
   ],
   "source": [
    "y_test"
   ]
  },
  {
   "cell_type": "code",
   "execution_count": 247,
   "id": "8180b77e-3083-4f03-8049-21169c4420ca",
   "metadata": {},
   "outputs": [
    {
     "name": "stderr",
     "output_type": "stream",
     "text": [
      "C:\\Users\\Admin\\anaconda3\\Lib\\site-packages\\sklearn\\base.py:493: UserWarning: X does not have valid feature names, but MinMaxScaler was fitted with feature names\n",
      "  warnings.warn(\n"
     ]
    },
    {
     "data": {
      "text/plain": [
       "125.03451025014647"
      ]
     },
     "execution_count": 247,
     "metadata": {},
     "output_type": "execute_result"
    }
   ],
   "source": [
    "def predict(area, bedrooms, w, b):\n",
    "    scaled_X = scaler_X.transform([[area, bedrooms]])[0]\n",
    "    scaled_price = w[0] * scaled_X[0] + w[1] * scaled_X[1] + b\n",
    "    return scaler_y.inverse_transform([[scaled_price]])[0][0]\n",
    "predict(2600,4,w_mbgd,b_mbgd)"
   ]
  },
  {
   "cell_type": "code",
   "execution_count": 249,
   "id": "44da18e0-a140-4785-824f-f138e72f00f4",
   "metadata": {},
   "outputs": [
    {
     "data": {
      "text/plain": [
       "Text(0.5, 1.0, 'Mini-Batch gradient decent')"
      ]
     },
     "execution_count": 249,
     "metadata": {},
     "output_type": "execute_result"
    },
    {
     "data": {
      "image/png": "[encoded data removed]",
      "text/plain": [
       "<Figure size 640x480 with 1 Axes>"
      ]
     },
     "metadata": {},
     "output_type": "display_data"
    }
   ],
   "source": [
    "plt.plot(epoch_list_mbgd, cost_list_mbgd)\n",
    "plt.title(\"Mini-Batch gradient decent\")"
   ]
  },
  {
   "cell_type": "code",
   "execution_count": null,
   "id": "1bba9db1-ee48-41e5-812f-1146b60c4c68",
   "metadata": {},
   "outputs": [],
   "source": []
  }
 ],
 "metadata": {
  "kernelspec": {
   "display_name": "Python [conda env:base] *",
   "language": "python",
   "name": "conda-base-py"
  },
  "language_info": {
   "codemirror_mode": {
    "name": "ipython",
    "version": 3
   },
   "file_extension": ".py",
   "mimetype": "text/x-python",
   "name": "python",
   "nbconvert_exporter": "python",
   "pygments_lexer": "ipython3",
   "version": "3.12.7"
  }
 },
 "nbformat": 4,
 "nbformat_minor": 5
}
