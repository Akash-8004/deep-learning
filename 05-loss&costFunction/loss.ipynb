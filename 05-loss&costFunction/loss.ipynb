{
 "cells": [
  {
   "cell_type": "markdown",
   "id": "8a73a0b7-64e7-4515-a263-08940d876a2f",
   "metadata": {},
   "source": [
    "### Mean absolute error:\n",
    "Mean Absolute Error (MAE) is a statistical metric that measures the average magnitude of errors between predicted and actual values in a dataset"
   ]
  },
  {
   "cell_type": "code",
   "execution_count": 39,
   "id": "84fcd718-f683-4041-8778-59ce7fa0ccbf",
   "metadata": {},
   "outputs": [],
   "source": [
    "y_predicted = np.array([1, 2, 4, 2, 9])\n",
    "y_true = np.array([1.3, 1.4, 3.2, 2.3, 7])\n"
   ]
  },
  {
   "cell_type": "code",
   "execution_count": 72,
   "id": "f393b2ed-ef4f-466e-abe9-c4edac799b36",
   "metadata": {},
   "outputs": [],
   "source": [
    "def mae(predicted, true):\n",
    "    errors = 0\n",
    "    for y_p, y_t in zip(predicted, true):\n",
    "        errors = errors+abs(y_p-y_t)\n",
    "        print(abs(y_p-y_t))\n",
    "    print(f\"Total errors: {errors}\")\n",
    "    mean_abs_error = errors/len(predicted)\n",
    "    print(f\"mean_abs_error: {mean_abs_error}\")"
   ]
  },
  {
   "cell_type": "code",
   "execution_count": 74,
   "id": "c5c93f4c-4b9c-48a0-a436-1155e14ae976",
   "metadata": {},
   "outputs": [
    {
     "name": "stdout",
     "output_type": "stream",
     "text": [
      "0.30000000000000004\n",
      "0.6000000000000001\n",
      "0.7999999999999998\n",
      "0.2999999999999998\n",
      "2.0\n",
      "Total errors: 4.0\n",
      "mean_abs_error: 0.8\n"
     ]
    }
   ],
   "source": [
    "mae(y_predicted,y_true)"
   ]
  },
  {
   "cell_type": "code",
   "execution_count": 49,
   "id": "b90ce0e0-7191-4a0f-bca3-b8de9e501041",
   "metadata": {},
   "outputs": [
    {
     "data": {
      "text/plain": [
       "4.0"
      ]
     },
     "execution_count": 49,
     "metadata": {},
     "output_type": "execute_result"
    }
   ],
   "source": [
    "# By numpy \n",
    "import numpy as np\n",
    "error = np.sum(np.abs(y_predicted-y_true))\n",
    "error"
   ]
  },
  {
   "cell_type": "code",
   "execution_count": 53,
   "id": "77e6af2a-b86a-4bab-bcd1-6c015c59d293",
   "metadata": {},
   "outputs": [
    {
     "data": {
      "text/plain": [
       "0.8"
      ]
     },
     "execution_count": 53,
     "metadata": {},
     "output_type": "execute_result"
    }
   ],
   "source": [
    "np.mean(np.abs(y_predicted-y_true))"
   ]
  },
  {
   "cell_type": "markdown",
   "id": "5d95bb6a-96a0-4674-a902-afd79de5678b",
   "metadata": {},
   "source": [
    "## Implement Log Loss or Binary Cross \n",
    "Binary cross-entropy (log loss) is a loss function used in binary classification problems. It quantifies the difference between the actual class labels (0 or 1) and the predicted probabilities output by the model. The lower the binary cross-entropy value, the better the model’s predictions align with the true labels.\n"
   ]
  },
  {
   "cell_type": "code",
   "execution_count": 58,
   "id": "bd99c530-1f3d-4f9a-bca6-c17d94d035c8",
   "metadata": {},
   "outputs": [],
   "source": [
    "def log_loss(y_true, y_predicted):\n",
    "    y_predicted_new = [max(i,epsilon) for i in y_predicted]\n",
    "    y_predicted_new = [min(i,1-epsilon) for i in y_predicted_new]\n",
    "    y_predicted_new = np.array(y_predicted_new)\n",
    "    return -np.mean(y_true*np.log(y_predicted_new)+(1-y_true)*np.log(1-y_predicted_new))"
   ]
  },
  {
   "cell_type": "code",
   "execution_count": 62,
   "id": "0c0110ee-44a7-4931-ae4b-63f8bce64b0a",
   "metadata": {},
   "outputs": [],
   "source": [
    "epsilon = 1e-15"
   ]
  },
  {
   "cell_type": "code",
   "execution_count": 64,
   "id": "3c09435b-368e-427a-9cb1-4c4fd7e05fdb",
   "metadata": {},
   "outputs": [
    {
     "data": {
      "text/plain": [
       "-70.4607350243754"
      ]
     },
     "execution_count": 64,
     "metadata": {},
     "output_type": "execute_result"
    }
   ],
   "source": [
    "log_loss(y_true, y_predicted)"
   ]
  },
  {
   "cell_type": "markdown",
   "id": "5c8524d1-f3ef-40e9-b338-4c83c1bf7533",
   "metadata": {},
   "source": [
    "## Implement mean squared error (or MSE) in two ways,\n",
    "\n",
    "1. Without using numpy (i.e. using plain python)\n",
    "\n",
    "2. With the use of numpy"
   ]
  },
  {
   "cell_type": "markdown",
   "id": "c3899033-8e7b-4e4e-ab5f-b79797886726",
   "metadata": {},
   "source": [
    "#### MSE :\n",
    "MSE is the average of the squared differences between the predicted values and the actual values. It is a key metric for evaluating regression models in machine learning. "
   ]
  },
  {
   "cell_type": "code",
   "execution_count": 88,
   "id": "f30843b6-b80e-4d92-8d39-20a6f67f4fed",
   "metadata": {},
   "outputs": [],
   "source": [
    "y_predicted_n = np.array([1,1,0,0,1])\n",
    "y_true_n = np.array([0.30,0.7,1,0,0.5])"
   ]
  },
  {
   "cell_type": "code",
   "execution_count": 90,
   "id": "352e02e6-ea8e-45cd-9dd6-09338c7d600c",
   "metadata": {},
   "outputs": [],
   "source": [
    "def mse(yp, yt):\n",
    "    sum_squred_errors=0\n",
    "    for y_p, y_t in zip(yp, yt):\n",
    "        squred_errors = (y_p-y_t)**2\n",
    "        sum_squred_errors = sum_squred_errors+squred_errors\n",
    "    print(f\"Total sum of squred error: {sum_squred_errors}\")\n",
    "    print(f\"Mean Squred Error: {sum_squred_errors/len(yp)}\")"
   ]
  },
  {
   "cell_type": "code",
   "execution_count": 99,
   "id": "8e26bd8a-2c1f-4ea5-b132-dff4f210d444",
   "metadata": {},
   "outputs": [
    {
     "name": "stdout",
     "output_type": "stream",
     "text": [
      "Total sum of squred error: 1.83\n",
      "Mean Squred Error: 0.366\n"
     ]
    }
   ],
   "source": [
    "mse(y_true_n, y_predicted_n)"
   ]
  },
  {
   "cell_type": "code",
   "execution_count": 101,
   "id": "1fdace3b-9242-4122-b80b-40d49c63920e",
   "metadata": {},
   "outputs": [
    {
     "data": {
      "text/plain": [
       "1.83"
      ]
     },
     "execution_count": 101,
     "metadata": {},
     "output_type": "execute_result"
    }
   ],
   "source": [
    "# Now using numpy\n",
    "np.sum(np.square(y_predicted_n-y_true_n))"
   ]
  },
  {
   "cell_type": "code",
   "execution_count": 105,
   "id": "dae3be66-b53c-4ead-9f02-ee69f1032264",
   "metadata": {},
   "outputs": [
    {
     "data": {
      "text/plain": [
       "0.366"
      ]
     },
     "execution_count": 105,
     "metadata": {},
     "output_type": "execute_result"
    }
   ],
   "source": [
    "np.mean(np.square(y_true_n-y_predicted_n))"
   ]
  },
  {
   "cell_type": "code",
   "execution_count": null,
   "id": "cba8c6cb-5479-41ce-a531-937948f19f1e",
   "metadata": {},
   "outputs": [],
   "source": []
  },
  {
   "cell_type": "code",
   "execution_count": null,
   "id": "b68c5c19-e174-4096-bf3d-bcc130851e2e",
   "metadata": {},
   "outputs": [],
   "source": []
  }
 ],
 "metadata": {
  "kernelspec": {
   "display_name": "Python [conda env:base] *",
   "language": "python",
   "name": "conda-base-py"
  },
  "language_info": {
   "codemirror_mode": {
    "name": "ipython",
    "version": 3
   },
   "file_extension": ".py",
   "mimetype": "text/x-python",
   "name": "python",
   "nbconvert_exporter": "python",
   "pygments_lexer": "ipython3",
   "version": "3.12.7"
  }
 },
 "nbformat": 4,
 "nbformat_minor": 5
}
