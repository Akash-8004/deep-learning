{
 "cells": [
  {
   "cell_type": "markdown",
   "id": "477aa7e0-54aa-4691-a4ef-afeb4713eba7",
   "metadata": {},
   "source": [
    "#### Exercise: Matrix Math\n",
    "1. Below is some indian companies revenues in US dollars. Using numpy can you convert this into Indian rupees? 1 USD = 88.77 INR\n",
    "\n",
    "![](revenue_usd.jpg)\n",
    "\n",
    "2. Divine flowers is a flower shop that sells different type of flowers. Below is the table showing how many flowers of each type they sold in different months. Also given are the prices of one flower each. Using this find out their total sales in every month.\n",
    "\n",
    "![](flowers.jpg)\n",
    "\n",
    "\n",
    "3. Here is some matrix exercise from mathisfun.com. Please click on a link below and do the exercise.\n",
    "\n",
    "[Click me for matrix exercise](https://www.mathopolis.com/questions/q.html?id=714&t=mif&qs=714_715_716_717_2394_2395_2397_2396_8473_8474_8475_8476&site=1&ref=2f616c67656272612f6d61747269782d6d756c7469706c79696e672e68746d6c&title=486f7720746f204d756c7469706c79204d61747269636573)\n"
   ]
  },
  {
   "cell_type": "code",
   "execution_count": 7,
   "id": "cfeb14c0-065b-4309-8082-7933e051e7e1",
   "metadata": {},
   "outputs": [],
   "source": [
    "import numpy as np"
   ]
  },
  {
   "cell_type": "code",
   "execution_count": 28,
   "id": "39004368-4ecc-4f0f-9ae4-0a91b75c5a40",
   "metadata": {},
   "outputs": [],
   "source": [
    "#1.  (1USD = 88.77INR)\n",
    "revenue_in_USD = np.array([\n",
    "                            [200, 220, 250], \n",
    "                            [68,  79,  105], \n",
    "                            [110, 140, 180], \n",
    "                            [80,  85,  90]\n",
    "                          ])"
   ]
  },
  {
   "cell_type": "code",
   "execution_count": 30,
   "id": "61edebc4-073f-4f68-8215-7041e80388db",
   "metadata": {},
   "outputs": [],
   "source": [
    "revenue_in_INR = revenue_in_USD*88.77"
   ]
  },
  {
   "cell_type": "code",
   "execution_count": 32,
   "id": "8c057463-9da8-4fa3-b038-29a027bf28a2",
   "metadata": {},
   "outputs": [
    {
     "data": {
      "text/plain": [
       "array([[17754.  , 19529.4 , 22192.5 ],\n",
       "       [ 6036.36,  7012.83,  9320.85],\n",
       "       [ 9764.7 , 12427.8 , 15978.6 ],\n",
       "       [ 7101.6 ,  7545.45,  7989.3 ]])"
      ]
     },
     "execution_count": 32,
     "metadata": {},
     "output_type": "execute_result"
    }
   ],
   "source": [
    "revenue_in_INR"
   ]
  },
  {
   "cell_type": "code",
   "execution_count": 46,
   "id": "e9286da8-d451-41cf-aac0-b389eedaf68a",
   "metadata": {},
   "outputs": [],
   "source": [
    "#2. \n",
    "unit_sold = np.array([\n",
    "                      [50, 60, 25], \n",
    "                      [10, 13, 5], \n",
    "                      [40, 70, 52]\n",
    "                     ])\n",
    "price_per_unit = np.array([20, 30, 15])\n",
    "total_sales_in_every_month = np.dot(price_per_unit, unit_sold)"
   ]
  },
  {
   "cell_type": "code",
   "execution_count": 48,
   "id": "52f9f89a-757b-49ea-b173-562a4c0be448",
   "metadata": {},
   "outputs": [
    {
     "data": {
      "text/plain": [
       "array([1900, 2640, 1430])"
      ]
     },
     "execution_count": 48,
     "metadata": {},
     "output_type": "execute_result"
    }
   ],
   "source": [
    "total_sales_in_every_month"
   ]
  },
  {
   "cell_type": "code",
   "execution_count": null,
   "id": "dd454f0c-23ca-43e9-b62a-64aa8b368cc5",
   "metadata": {},
   "outputs": [],
   "source": []
  },
  {
   "cell_type": "code",
   "execution_count": null,
   "id": "f440611a-f564-466c-b60a-979a206ae33c",
   "metadata": {},
   "outputs": [],
   "source": []
  }
 ],
 "metadata": {
  "kernelspec": {
   "display_name": "Python [conda env:base] *",
   "language": "python",
   "name": "conda-base-py"
  },
  "language_info": {
   "codemirror_mode": {
    "name": "ipython",
    "version": 3
   },
   "file_extension": ".py",
   "mimetype": "text/x-python",
   "name": "python",
   "nbconvert_exporter": "python",
   "pygments_lexer": "ipython3",
   "version": "3.12.7"
  }
 },
 "nbformat": 4,
 "nbformat_minor": 5
}
